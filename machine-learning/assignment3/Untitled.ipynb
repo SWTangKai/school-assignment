{
 "cells": [
  {
   "cell_type": "code",
   "execution_count": 2,
   "metadata": {
    "collapsed": false
   },
   "outputs": [],
   "source": [
    "import Kmeans\n",
    "import pandas as pd\n",
    "from scipy.spatial import distance\n",
    "import numpy as np\n",
    "from utils import *\n",
    "from sklearn import cluster"
   ]
  },
  {
   "cell_type": "code",
   "execution_count": 3,
   "metadata": {
    "collapsed": false
   },
   "outputs": [
    {
     "name": "stderr",
     "output_type": "stream",
     "text": [
      "C:\\Program Files\\Anaconda3\\lib\\site-packages\\sklearn\\feature_extraction\\text.py:1059: FutureWarning: Conversion of the second argument of issubdtype from `float` to `np.floating` is deprecated. In future, it will be treated as `np.float64 == np.dtype(float).type`.\n",
      "  if hasattr(X, 'dtype') and np.issubdtype(X.dtype, np.float):\n"
     ]
    }
   ],
   "source": [
    "origin_data_df = pd.read_csv('./input.txt', sep='\\t', header=-1)\n",
    "origin_data_df.columns = ['time', 'content']\n",
    "\n",
    "stopwords = set()\n",
    "with open('./Chinese-StopWords.txt') as f:\n",
    "    for i in f.readlines():\n",
    "        stopwords.add(i.strip('\\n'))\n",
    "\n",
    "origin_data_df['remove_stop'] = origin_data_df.content.apply(lambda s: ' '.join(\n",
    "    [x for x in s.split(' ') if x not in stopwords]))\n",
    "\n",
    "tf_idf_matrix = GetTfidfMatrix(origin_data_df.content)"
   ]
  },
  {
   "cell_type": "code",
   "execution_count": 4,
   "metadata": {
    "collapsed": true
   },
   "outputs": [],
   "source": [
    "kmeans_cls = cluster.KMeans()\n",
    "origin_data_df['kmeans_label'] = kmeans_cls.fit_predict(tf_idf_matrix)"
   ]
  },
  {
   "cell_type": "code",
   "execution_count": null,
   "metadata": {
    "collapsed": true
   },
   "outputs": [],
   "source": [
    "for cent in range(k):\n",
    "    one = ans[nonzero(clusterAssment[:, 0].A == cent)[0]]\n",
    "    plt.scatter(one[:, 0], one[:, 1])\n",
    "plt.scatter(ans[:])"
   ]
  },
  {
   "cell_type": "code",
   "execution_count": 5,
   "metadata": {
    "collapsed": true
   },
   "outputs": [],
   "source": [
    "label = origin_data_df['kmeans_label']"
   ]
  },
  {
   "cell_type": "code",
   "execution_count": 22,
   "metadata": {
    "collapsed": true
   },
   "outputs": [],
   "source": [
    "from sklearn import decomposition"
   ]
  },
  {
   "cell_type": "code",
   "execution_count": 27,
   "metadata": {
    "collapsed": false
   },
   "outputs": [
    {
     "data": {
      "image/png": "[encoded data removed]",
      "text/plain": [
       "<matplotlib.figure.Figure at 0x29522a8d978>"
      ]
     },
     "metadata": {},
     "output_type": "display_data"
    }
   ],
   "source": [
    "Plot(LowDimProject(tf_idf_matrix, projector=manifold.TSNE(n_components=2, learning_rate=10, n_iter=1000)), label)"
   ]
  },
  {
   "cell_type": "code",
   "execution_count": 16,
   "metadata": {
    "collapsed": false
   },
   "outputs": [
    {
     "data": {
      "text/plain": [
       "array([[ 1.34428760e-02,  0.00000000e+00,  1.08420217e-19, ...,\n",
       "         2.16840434e-19, -5.42101086e-20,  2.60994357e-02],\n",
       "       [-2.16840434e-19, -4.33680869e-19,  1.08420217e-19, ...,\n",
       "         2.16840434e-19, -8.13151629e-20,  3.77941758e-02],\n",
       "       [-5.42101086e-19,  1.73472348e-18, -3.25260652e-19, ...,\n",
       "        -6.50521303e-19,  1.04875521e-03,  4.47144649e-02],\n",
       "       ...,\n",
       "       [ 0.00000000e+00,  4.33680869e-19, -1.08420217e-19, ...,\n",
       "         2.16840434e-19, -5.42101086e-20,  4.45266992e-02],\n",
       "       [-1.08420217e-19,  0.00000000e+00,  0.00000000e+00, ...,\n",
       "         0.00000000e+00, -2.71050543e-20,  8.04237348e-02],\n",
       "       [-1.08420217e-19,  2.92264084e-03,  2.73381458e-03, ...,\n",
       "        -8.67361738e-19, -5.42101086e-20,  4.32352827e-02]])"
      ]
     },
     "execution_count": 16,
     "metadata": {},
     "output_type": "execute_result"
    }
   ],
   "source": [
    "kmeans_cls.cluster_centers_"
   ]
  },
  {
   "cell_type": "code",
   "execution_count": 70,
   "metadata": {
    "collapsed": true
   },
   "outputs": [],
   "source": [
    "from sklearn import preprocessing"
   ]
  },
  {
   "cell_type": "code",
   "execution_count": 100,
   "metadata": {
    "collapsed": true
   },
   "outputs": [],
   "source": [
    "df = preprocessing.MinMaxScaler().fit_transform(tf_idf_matrix)\n",
    "# data = LowDimProject(tf_idf_matrix, projector=manifold.TSNE(n_components=2,learning_rate=5, n_iter=5000))\n",
    "kmeans_cls = cluster.KMeans()\n",
    "label = kmeans_cls.fit_predict(tf_idf_matrix)"
   ]
  },
  {
   "cell_type": "code",
   "execution_count": 138,
   "metadata": {
    "collapsed": false
   },
   "outputs": [],
   "source": [
    "df = preprocessing.MinMaxScaler().fit_transform(tf_idf_matrix)\n",
    "data = LowDimProject(tf_idf_matrix, projector=manifold.TSNE(n_components=2,learning_rate=5, n_iter=5000))\n",
    "kmeans_cls = cluster.KMeans()\n",
    "label = kmeans_cls.fit_predict(data)"
   ]
  },
  {
   "cell_type": "code",
   "execution_count": 80,
   "metadata": {
    "collapsed": false
   },
   "outputs": [
    {
     "data": {
      "text/plain": [
       "1.0"
      ]
     },
     "execution_count": 80,
     "metadata": {},
     "output_type": "execute_result"
    }
   ],
   "source": [
    "np.max(df)"
   ]
  },
  {
   "cell_type": "code",
   "execution_count": 139,
   "metadata": {
    "collapsed": false
   },
   "outputs": [
    {
     "data": {
      "image/png": "[encoded data removed]",
      "text/plain": [
       "<matplotlib.figure.Figure at 0x2952297ae48>"
      ]
     },
     "metadata": {},
     "output_type": "display_data"
    }
   ],
   "source": [
    "np.random.seed(1000)\n",
    "# data = LowDimProject(tf_idf_matrix, projector=manifold.TSNE(n_components=2,learning_rate=8,n_iter=4000))\n",
    "# data = LowDimProject(tf_idf_matrix, projector=manifold.SpectralEmbedding(n_components=2))\n",
    "# data = LowDimProject(tf_idf_matrix, projector=manifold.Isomap(n_components=2))\n",
    "# data = LowDimProject(df, projector=decomposition.PCA(n_components=2))\n",
    "# data = df\n",
    "rng = np.random.RandomState(0)\n",
    "lens = pd.value_counts(label)\n",
    "# plt.scatter(data[:, 0], data[:, 1],c=)\n",
    "for cent in range(len(pd.value_counts(label))):\n",
    "    one = data[np.where(label == cent)[0]]\n",
    "    plt.scatter(one[:, 0], one[:, 1])\n",
    "plt.savefig('Iso_map', dpi=500)\n",
    "plt.show()"
   ]
  },
  {
   "cell_type": "code",
   "execution_count": 98,
   "metadata": {
    "collapsed": false
   },
   "outputs": [
    {
     "data": {
      "text/plain": [
       "array([44, 65, 73, 79, 86], dtype=int64)"
      ]
     },
     "execution_count": 98,
     "metadata": {},
     "output_type": "execute_result"
    }
   ],
   "source": [
    "np.where(label == 1)[0]"
   ]
  },
  {
   "cell_type": "code",
   "execution_count": 123,
   "metadata": {
    "collapsed": false
   },
   "outputs": [
    {
     "data": {
      "text/plain": [
       "<module 'Kmeans' from 'F:\\\\user\\\\Desktop\\\\college-assignment\\\\machine-learning\\\\assignment3\\\\Kmeans.py'>"
      ]
     },
     "execution_count": 123,
     "metadata": {},
     "output_type": "execute_result"
    }
   ],
   "source": [
    "from imp import reload\n",
    "reload(Kmeans)"
   ]
  },
  {
   "cell_type": "code",
   "execution_count": 143,
   "metadata": {
    "collapsed": false
   },
   "outputs": [
    {
     "name": "stdout",
     "output_type": "stream",
     "text": [
      "SSE Split and not split:  159.53330659779186 0.0\n",
      "the Best cent to split is:  0\n",
      "the len of bestClusterAss is:  0\n",
      "SSE Split and not split:  51.83146402486622 65.77913806204769\n",
      "SSE Split and not split:  35.28898483243183 93.75416853574417\n",
      "the Best cent to split is:  0\n",
      "the len of bestClusterAss is:  0\n",
      "SSE Split and not split:  7.563893915426438 88.78051915259611\n",
      "SSE Split and not split:  31.275345888890644 51.83146402486622\n",
      "SSE Split and not split:  13.065649288759714 94.6092209963655\n",
      "the Best cent to split is:  1\n",
      "the len of bestClusterAss is:  1\n",
      "SSE Split and not split:  7.563893915426438 54.276726979439076\n",
      "SSE Split and not split:  5.961657226644753 70.03693280656202\n",
      "SSE Split and not split:  12.185339576608584 60.105428823208456\n",
      "SSE Split and not split:  7.568855445379944 64.90134113206108\n",
      "the Best cent to split is:  0\n",
      "the len of bestClusterAss is:  0\n",
      "SSE Split and not split:  1.4349036147746155 58.65345787058787\n",
      "SSE Split and not split:  5.961657226644753 48.770743787670646\n",
      "SSE Split and not split:  12.7897010300822 38.83923980431709\n",
      "SSE Split and not split:  7.520631520120312 43.63515211316972\n",
      "SSE Split and not split:  1.0701878372262563 57.46389000371671\n",
      "the Best cent to split is:  3\n",
      "the len of bestClusterAss is:  3\n",
      "SSE Split and not split:  1.4349036147746155 47.96862060901239\n",
      "SSE Split and not split:  5.961657226644753 38.085906526095165\n",
      "SSE Split and not split:  12.810683672101074 28.154402542741607\n",
      "SSE Split and not split:  3.5279845982614133 44.640847152533524\n",
      "SSE Split and not split:  1.0701878372262563 46.77905274214123\n",
      "SSE Split and not split:  0.3513285593411342 50.15008859392623\n",
      "the Best cent to split is:  2\n",
      "the len of bestClusterAss is:  2\n",
      "SSE Split and not split:  1.4349036147746155 37.77792319056505\n",
      "SSE Split and not split:  5.961657226644753 27.895209107647826\n",
      "SSE Split and not split:  2.058352121534102 33.93023884821472\n",
      "SSE Split and not split:  3.9778109690410997 34.45014973408618\n",
      "SSE Split and not split:  1.0701878372262563 36.58835532369389\n",
      "SSE Split and not split:  0.33057142450445415 39.959391175478885\n",
      "SSE Split and not split:  1.0650788097004826 35.18924990936958\n",
      "the Best cent to split is:  1\n",
      "the len of bestClusterAss is:  1\n"
     ]
    },
    {
     "ename": "ValueError",
     "evalue": "matrix must be 2-dimensional",
     "output_type": "error",
     "traceback": [
      "\u001b[0;31m---------------------------------------------------------------------------\u001b[0m",
      "\u001b[0;31mValueError\u001b[0m                                Traceback (most recent call last)",
      "\u001b[0;32m<ipython-input-143-495d85b40b91>\u001b[0m in \u001b[0;36m<module>\u001b[0;34m()\u001b[0m\n\u001b[0;32m----> 1\u001b[0;31m \u001b[0mn\u001b[0m \u001b[1;33m=\u001b[0m \u001b[0mKmeans\u001b[0m\u001b[1;33m.\u001b[0m\u001b[0mbiKmeans\u001b[0m\u001b[1;33m(\u001b[0m\u001b[0mdata\u001b[0m\u001b[1;33m,\u001b[0m \u001b[1;36m8\u001b[0m\u001b[1;33m)\u001b[0m\u001b[1;33m\u001b[0m\u001b[0m\n\u001b[0m\u001b[1;32m      2\u001b[0m \u001b[0mlabel\u001b[0m \u001b[1;33m=\u001b[0m \u001b[0mnp\u001b[0m\u001b[1;33m.\u001b[0m\u001b[0marray\u001b[0m\u001b[1;33m(\u001b[0m\u001b[0mn\u001b[0m\u001b[1;33m[\u001b[0m\u001b[1;36m1\u001b[0m\u001b[1;33m]\u001b[0m\u001b[1;33m[\u001b[0m\u001b[1;33m:\u001b[0m\u001b[1;33m,\u001b[0m \u001b[1;36m0\u001b[0m\u001b[1;33m]\u001b[0m\u001b[1;33m.\u001b[0m\u001b[0mT\u001b[0m\u001b[1;33m[\u001b[0m\u001b[1;36m0\u001b[0m\u001b[1;33m]\u001b[0m\u001b[1;33m)\u001b[0m\u001b[1;33m.\u001b[0m\u001b[0mastype\u001b[0m\u001b[1;33m(\u001b[0m\u001b[0mint\u001b[0m\u001b[1;33m)\u001b[0m\u001b[1;33m[\u001b[0m\u001b[1;36m0\u001b[0m\u001b[1;33m]\u001b[0m\u001b[1;33m\u001b[0m\u001b[0m\n",
      "\u001b[0;32mF:\\user\\Desktop\\college-assignment\\machine-learning\\assignment3\\Kmeans.py\u001b[0m in \u001b[0;36mbiKmeans\u001b[0;34m(dataSet, k, disMeas)\u001b[0m\n\u001b[1;32m     82\u001b[0m         clusterAssment[nonzero(clusterAssment[:, 0].A == bestCentToSplit)[\n\u001b[1;32m     83\u001b[0m             0], :] = bestClustAss\n\u001b[0;32m---> 84\u001b[0;31m     \u001b[1;32mreturn\u001b[0m \u001b[0mmat\u001b[0m\u001b[1;33m(\u001b[0m\u001b[0mcentList\u001b[0m\u001b[1;33m)\u001b[0m\u001b[1;33m,\u001b[0m \u001b[0mclusterAssment\u001b[0m\u001b[1;33m\u001b[0m\u001b[0m\n\u001b[0m",
      "\u001b[0;32mC:\\Program Files\\Anaconda3\\lib\\site-packages\\numpy\\matrixlib\\defmatrix.py\u001b[0m in \u001b[0;36masmatrix\u001b[0;34m(data, dtype)\u001b[0m\n\u001b[1;32m     62\u001b[0m \u001b[1;33m\u001b[0m\u001b[0m\n\u001b[1;32m     63\u001b[0m     \"\"\"\n\u001b[0;32m---> 64\u001b[0;31m     \u001b[1;32mreturn\u001b[0m \u001b[0mmatrix\u001b[0m\u001b[1;33m(\u001b[0m\u001b[0mdata\u001b[0m\u001b[1;33m,\u001b[0m \u001b[0mdtype\u001b[0m\u001b[1;33m=\u001b[0m\u001b[0mdtype\u001b[0m\u001b[1;33m,\u001b[0m \u001b[0mcopy\u001b[0m\u001b[1;33m=\u001b[0m\u001b[1;32mFalse\u001b[0m\u001b[1;33m)\u001b[0m\u001b[1;33m\u001b[0m\u001b[0m\n\u001b[0m\u001b[1;32m     65\u001b[0m \u001b[1;33m\u001b[0m\u001b[0m\n\u001b[1;32m     66\u001b[0m \u001b[1;32mdef\u001b[0m \u001b[0mmatrix_power\u001b[0m\u001b[1;33m(\u001b[0m\u001b[0mM\u001b[0m\u001b[1;33m,\u001b[0m \u001b[0mn\u001b[0m\u001b[1;33m)\u001b[0m\u001b[1;33m:\u001b[0m\u001b[1;33m\u001b[0m\u001b[0m\n",
      "\u001b[0;32mC:\\Program Files\\Anaconda3\\lib\\site-packages\\numpy\\matrixlib\\defmatrix.py\u001b[0m in \u001b[0;36m__new__\u001b[0;34m(subtype, data, dtype, copy)\u001b[0m\n\u001b[1;32m    238\u001b[0m         \u001b[0mshape\u001b[0m \u001b[1;33m=\u001b[0m \u001b[0marr\u001b[0m\u001b[1;33m.\u001b[0m\u001b[0mshape\u001b[0m\u001b[1;33m\u001b[0m\u001b[0m\n\u001b[1;32m    239\u001b[0m         \u001b[1;32mif\u001b[0m \u001b[1;33m(\u001b[0m\u001b[0mndim\u001b[0m \u001b[1;33m>\u001b[0m \u001b[1;36m2\u001b[0m\u001b[1;33m)\u001b[0m\u001b[1;33m:\u001b[0m\u001b[1;33m\u001b[0m\u001b[0m\n\u001b[0;32m--> 240\u001b[0;31m             \u001b[1;32mraise\u001b[0m \u001b[0mValueError\u001b[0m\u001b[1;33m(\u001b[0m\u001b[1;34m\"matrix must be 2-dimensional\"\u001b[0m\u001b[1;33m)\u001b[0m\u001b[1;33m\u001b[0m\u001b[0m\n\u001b[0m\u001b[1;32m    241\u001b[0m         \u001b[1;32melif\u001b[0m \u001b[0mndim\u001b[0m \u001b[1;33m==\u001b[0m \u001b[1;36m0\u001b[0m\u001b[1;33m:\u001b[0m\u001b[1;33m\u001b[0m\u001b[0m\n\u001b[1;32m    242\u001b[0m             \u001b[0mshape\u001b[0m \u001b[1;33m=\u001b[0m \u001b[1;33m(\u001b[0m\u001b[1;36m1\u001b[0m\u001b[1;33m,\u001b[0m \u001b[1;36m1\u001b[0m\u001b[1;33m)\u001b[0m\u001b[1;33m\u001b[0m\u001b[0m\n",
      "\u001b[0;31mValueError\u001b[0m: matrix must be 2-dimensional"
     ]
    }
   ],
   "source": [
    "n = Kmeans.biKmeans(data, 8)\n",
    "label = np.array(n[1][:, 0].T[0]).astype(int)[0]"
   ]
  },
  {
   "cell_type": "code",
   "execution_count": 144,
   "metadata": {
    "collapsed": false
   },
   "outputs": [
    {
     "data": {
      "image/png": "[encoded data removed]",
      "text/plain": [
       "<matplotlib.figure.Figure at 0x2952290a908>"
      ]
     },
     "metadata": {},
     "output_type": "display_data"
    }
   ],
   "source": [
    "np.random.seed(1000)\n",
    "# data = LowDimProject(tf_idf_matrix, projector=manifold.TSNE(n_components=2,learning_rate=8,n_iter=4000))\n",
    "# data = LowDimProject(tf_idf_matrix, projector=manifold.SpectralEmbedding(n_components=2))\n",
    "# data = LowDimProject(tf_idf_matrix, projector=manifold.Isomap(n_components=2))\n",
    "# data = LowDimProject(df, projector=decomposition.PCA(n_components=2))\n",
    "# data = df\n",
    "rng = np.random.RandomState(0)\n",
    "lens = pd.value_counts(label)\n",
    "# plt.scatter(data[:, 0], data[:, 1],c=)\n",
    "for cent in range(len(pd.value_counts(label))):\n",
    "    one = data[np.where(label == cent)[0]]\n",
    "    plt.scatter(one[:, 0], one[:, 1])\n",
    "plt.savefig('Iso_map', dpi=500)\n",
    "plt.show()"
   ]
  },
  {
   "cell_type": "code",
   "execution_count": 133,
   "metadata": {
    "collapsed": false
   },
   "outputs": [
    {
     "data": {
      "text/plain": [
       "array([[3, 3, 6, 6, 1, 3, 3, 2, 2, 4, 3, 2, 2, 2, 2, 6, 7, 6, 6, 6, 3, 6,\n",
       "        6, 3, 3, 6, 3, 6, 7, 4, 2, 6, 6, 3, 2, 4, 6, 1, 4, 2, 0, 4, 5, 5,\n",
       "        5, 3, 2, 2, 0, 0, 2, 4, 1, 4, 6, 3, 3, 3, 2, 3, 4, 1, 1, 4, 1, 5,\n",
       "        1, 1, 7, 4, 0, 3, 0, 5, 6, 0, 0, 0, 3, 5, 3, 3, 3, 0, 3, 1, 5, 0,\n",
       "        0, 0, 7, 7, 1, 3, 7, 1, 0, 0, 0, 7, 0, 3, 0, 1, 3, 0, 3, 0, 7, 0,\n",
       "        7, 2, 7, 3, 7, 0, 0, 1, 0, 7, 0, 0, 4, 0, 0, 0, 0, 7, 2, 0, 7, 2,\n",
       "        0, 0, 7, 0, 7, 7, 7, 3, 7, 7, 4]])"
      ]
     },
     "execution_count": 133,
     "metadata": {},
     "output_type": "execute_result"
    }
   ],
   "source": [
    "label"
   ]
  }
 ],
 "metadata": {
  "kernelspec": {
   "display_name": "Python 3",
   "language": "python",
   "name": "python3"
  },
  "language_info": {
   "codemirror_mode": {
    "name": "ipython",
    "version": 3
   },
   "file_extension": ".py",
   "mimetype": "text/x-python",
   "name": "python",
   "nbconvert_exporter": "python",
   "pygments_lexer": "ipython3",
   "version": "3.6.0"
  }
 },
 "nbformat": 4,
 "nbformat_minor": 2
}
